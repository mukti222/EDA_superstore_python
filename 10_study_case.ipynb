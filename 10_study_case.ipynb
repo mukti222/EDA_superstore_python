Gunakan dataset ini dan jawablah pertanyaan berikut dengan benar

1. Berapa nilai total penjualan selama tahun 2017?
2.Berapa kenaikan nilai penjualan dari tahun 2015 ke tahun 2016?
3. Siapakah konsumen dengan nilai penjualan tertinggi secara keseluruhan
4. Berapa kali konsumen bernama Claire Gute melakukan transaksi?
5 Produk apa yang mendatangkan keuntungan terbanyak di tahun 2016?
6 Produk apa yang mendatangkan kerugian terbesar di tahun 2016?
7 Produk apa yang paling best seller di tahun 2015? (dilihat berdasarkan unit yang terjual)
8 Buatlah line chart yang menunjukan nilai penjualan dari waktu ke waktu
9 Buatlah bar chart yang menunjukkan total keuntungan berdasarkan region
10 Buatlah bar chart yang menunjukkan total nilai penjualan berdasarkan region dan product category

import pandas as pd
import numpy as np

import matplotlib.pyplot as plt
import seaborn as sns



df = pd.read_csv('/content/superstore.csv')

df.info()

# ############################################### JAWABAN NO 1 ##############################################################

df['order_date'] = pd.to_datetime(df['order_date'])
df['ship_date'] = pd.to_datetime(df['ship_date'])

# filter th 2017
data_2017 = df[df['order_date'].dt.year == 2017]

# Pivot table untuk nilai penjualan (sales) pada tahun 2017
pivot_2017 = data_2017.pivot_table(
    index=pd.Grouper(freq='y',key='order_date'), 
    values='sales', 
    aggfunc='sum')

# Tampilkan hasil pivot table
print(pivot_2017)


# ############################################ JAWABAN NO 2 #######################################################

total_2015 = df[df['order_date'].dt.year == 2015]
sales_2015 = total_2015.pivot_table(
    index=pd.Grouper(freq='y',key='order_date'), 
    values='sales', 
    aggfunc='sum')
print(sales_2015)

total_2016  = df[df['order_date'].dt.year == 2016]
sales_2016 = total_2016.pivot_table(
    index=pd.Grouper(freq='y',key='order_date'), 
    values='sales', 
    aggfunc='sum')
print(sales_2016)

kenaikan_penjualan = sales_2016.iloc[0, 0] - sales_2015.iloc[0, 0]
kenaikan_penjualan 
