{
  "nbformat": 4,
  "nbformat_minor": 0,
  "metadata": {
    "colab": {
      "provenance": [],
      "authorship_tag": "ABX9TyNk4MNUSHDdlZ/GRwe8hbpm",
      "include_colab_link": true
    },
    "kernelspec": {
      "name": "python3",
      "display_name": "Python 3"
    },
    "language_info": {
      "name": "python"
    }
  },
  "cells": [
    {
      "cell_type": "markdown",
      "metadata": {
        "id": "view-in-github",
        "colab_type": "text"
      },
      "source": [
        "<a href=\"https://colab.research.google.com/github/mukti222/EDA_superstore_python/blob/main/10_study_case.ipynb\" target=\"_parent\"><img src=\"https://colab.research.google.com/assets/colab-badge.svg\" alt=\"Open In Colab\"/></a>"
      ]
    },
    {
      "cell_type": "code",
      "execution_count": null,
      "metadata": {
        "id": "CHBS4f8vgq5Z"
      },
      "outputs": [],
      "source": [
        "Gunakan dataset ini dan jawablah pertanyaan berikut dengan benar\n",
        "\n",
        "1. Berapa nilai total penjualan selama tahun 2017?\n",
        "2.Berapa kenaikan nilai penjualan dari tahun 2015 ke tahun 2016?\n",
        "3. Siapakah konsumen dengan nilai penjualan tertinggi secara keseluruhan\n",
        "4. Berapa kali konsumen bernama Claire Gute melakukan transaksi?\n",
        "5 Produk apa yang mendatangkan keuntungan terbanyak di tahun 2016?\n",
        "6 Produk apa yang mendatangkan kerugian terbesar di tahun 2016?\n",
        "7 Produk apa yang paling best seller di tahun 2015? (dilihat berdasarkan unit yang terjual)\n",
        "8 Buatlah line chart yang menunjukan nilai penjualan dari waktu ke waktu\n",
        "9 Buatlah bar chart yang menunjukkan total keuntungan berdasarkan region\n",
        "10 Buatlah bar chart yang menunjukkan total nilai penjualan berdasarkan region dan product category"
      ]
    },
    {
      "cell_type": "code",
      "source": [
        "import pandas as pd\n",
        "import numpy as np\n",
        "\n",
        "import matplotlib.pyplot as plt\n",
        "import seaborn as sns\n",
        "\n"
      ],
      "metadata": {
        "id": "TGpj2ps3nJ37"
      },
      "execution_count": 1,
      "outputs": []
    },
    {
      "cell_type": "code",
      "source": [
        "df = pd.read_csv('/content/superstore.csv')\n",
        "\n",
        "df.info()"
      ],
      "metadata": {
        "colab": {
          "base_uri": "https://localhost:8080/"
        },
        "id": "ZwgBeGaYnN5O",
        "outputId": "aa9ec3fc-6d93-4f08-c00b-7f56039e5ca1"
      },
      "execution_count": 2,
      "outputs": [
        {
          "output_type": "stream",
          "name": "stdout",
          "text": [
            "<class 'pandas.core.frame.DataFrame'>\n",
            "RangeIndex: 9994 entries, 0 to 9993\n",
            "Data columns (total 21 columns):\n",
            " #   Column         Non-Null Count  Dtype  \n",
            "---  ------         --------------  -----  \n",
            " 0   row_id         9994 non-null   int64  \n",
            " 1   order_id       9994 non-null   object \n",
            " 2   order_date     9994 non-null   object \n",
            " 3   ship_date      9994 non-null   object \n",
            " 4   ship_mode      9994 non-null   object \n",
            " 5   customer_id    9994 non-null   object \n",
            " 6   customer_name  9994 non-null   object \n",
            " 7   segment        9994 non-null   object \n",
            " 8   country        9994 non-null   object \n",
            " 9   city           9994 non-null   object \n",
            " 10  state          9994 non-null   object \n",
            " 11  postal_code    9994 non-null   int64  \n",
            " 12  region         9994 non-null   object \n",
            " 13  product_id     9994 non-null   object \n",
            " 14  category       9994 non-null   object \n",
            " 15  subcategory    9994 non-null   object \n",
            " 16  product_name   9994 non-null   object \n",
            " 17  sales          9994 non-null   float64\n",
            " 18  quantity       9994 non-null   int64  \n",
            " 19  discount       9994 non-null   float64\n",
            " 20  profit         9994 non-null   float64\n",
            "dtypes: float64(3), int64(3), object(15)\n",
            "memory usage: 1.6+ MB\n"
          ]
        }
      ]
    },
    {
      "cell_type": "code",
      "source": [
        "# ############################################### JAWABAN NO 1 ##############################################################\n",
        "\n",
        "df['order_date'] = pd.to_datetime(df['order_date'])\n",
        "df['ship_date'] = pd.to_datetime(df['ship_date'])\n",
        "\n",
        "# filter th 2017\n",
        "data_2017 = df[df['order_date'].dt.year == 2017]\n",
        "\n",
        "# Pivot table untuk nilai penjualan (sales) pada tahun 2017\n",
        "pivot_2017 = data_2017.pivot_table(\n",
        "    index=pd.Grouper(freq='y',key='order_date'),\n",
        "    values='sales',\n",
        "    aggfunc='sum')\n",
        "\n",
        "# Tampilkan hasil pivot table\n",
        "print(pivot_2017)\n"
      ],
      "metadata": {
        "colab": {
          "base_uri": "https://localhost:8080/"
        },
        "id": "WAYpz1WCnUie",
        "outputId": "e42b2bba-4203-4dae-9fcb-caabe517f6f9"
      },
      "execution_count": 3,
      "outputs": [
        {
          "output_type": "stream",
          "name": "stdout",
          "text": [
            "                  sales\n",
            "order_date             \n",
            "2017-12-31  733215.2552\n"
          ]
        }
      ]
    },
    {
      "cell_type": "code",
      "source": [
        "# ############################################ JAWABAN NO 2 #######################################################\n",
        "\n",
        "total_2015 = df[df['order_date'].dt.year == 2015]\n",
        "sales_2015 = total_2015.pivot_table(\n",
        "    index=pd.Grouper(freq='y',key='order_date'),\n",
        "    values='sales',\n",
        "    aggfunc='sum')\n",
        "print(sales_2015)\n",
        "\n",
        "total_2016  = df[df['order_date'].dt.year == 2016]\n",
        "sales_2016 = total_2016.pivot_table(\n",
        "    index=pd.Grouper(freq='y',key='order_date'),\n",
        "    values='sales',\n",
        "    aggfunc='sum')\n",
        "print(sales_2016)\n",
        "\n",
        "kenaikan_penjualan = sales_2016.iloc[0, 0] - sales_2015.iloc[0, 0]\n",
        "kenaikan_penjualan"
      ],
      "metadata": {
        "colab": {
          "base_uri": "https://localhost:8080/"
        },
        "id": "2N1Lo_EMoxpc",
        "outputId": "7a852638-1f11-4d7b-f609-8ef2ba615c66"
      },
      "execution_count": 7,
      "outputs": [
        {
          "output_type": "stream",
          "name": "stdout",
          "text": [
            "                 sales\n",
            "order_date            \n",
            "2015-12-31  470532.509\n",
            "                 sales\n",
            "order_date            \n",
            "2016-12-31  609205.598\n"
          ]
        },
        {
          "output_type": "execute_result",
          "data": {
            "text/plain": [
              "138673.08899999998"
            ]
          },
          "metadata": {},
          "execution_count": 7
        }
      ]
    }
  ]
}